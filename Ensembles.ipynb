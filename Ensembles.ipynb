{
 "cells": [
  {
   "cell_type": "markdown",
   "metadata": {},
   "source": [
    "# Name: Chloe Wohlgemuth\n",
    "### COSC247\n",
    "### Ensembles"
   ]
  },
  {
   "cell_type": "markdown",
   "metadata": {},
   "source": [
    "## Assignment Instructions\n",
    "Use k-fold cross-validation to compare the performance of at least three different individual classification models, defined with pipelines, and an ensemble that is composed of those models. Then train all of the individual models and the ensemble on the full training set, and assess the performance of the trained models and the ensemble on the testing set.\n",
    "\n",
    "You can start with the notebook presented in class on October 13, which meets all of the requirements spelled out below, or you can build your notebook from scratch, which will be more challenging but also more instructive. In either case, your notebook must differ from the notebook presented in class in at least the following ways:\n",
    "\n",
    "You must use a different dataset. As in the Linear Classifiers assignment, the dataset that you use must include at least 500 instances. You may use the same dataset as a fellow student, as long as you don't use the same dataset and the same models as anyone else, as far as you know. You should include your dataset with your submission, unless it is included in scikit-learn.\n",
    "\n",
    "You must change at least one of the individual model types. It is okay for more than one of your models to be of the same type, with different parameters.\n",
    "\n",
    "You are encouraged to experiment with other changes as well. For example, you might want to change the ensemble method, from majority voting to something else such as bagging or boosting, although this is not a requirement. You might also want to change the cross-validation scoring metric, or the performance metric(s) used to assess your models on the testing set. You should be guided in these and other choices by the nature of the data and the problem that you are addressing, along with the performance that you see as you experiment with models.\n",
    "\n",
    "For this assignment you can perform binary classification or multiclass classification.\n",
    "\n",
    "Your notebook should perform at least the following steps:\n",
    "\n",
    "- Read in your data.\n",
    "- Divide the data into training and testing sets.\n",
    "- Create pipelines for each of the classifiers, including whatever feature transformers you wish to apply.\n",
    "- Create an ensemble, using all of the defined pipelines.\n",
    "- Perform k-fold cross-validation to assess the performance of all pipelines and the ensemble.\n",
    "- Individually train each of the pipelines and the ensemble on the full training set, and show the performance of each on the testing set.\n",
    "\n",
    "Include the following information in markdown cells in your notebook:\n",
    "- A description of the data that you are using\n",
    "- A description of classification task that you are training your models to perform\n",
    "- Descriptions of the models used in each of your pipelines, including any feature transformers\n",
    "- A description of the ensemble method that you are using\n",
    "- A summary of the results of cross-validation\n",
    "- A summary of the results of testing on the testing data, including whether or not these results are consistent with those of cross-validation\n",
    "\n",
    "You are encouraged to collaborate with classmates in completing this assignment, but you should acknowledge all help that you have received in your notebook file.\n",
    "\n",
    "You can assume that your code will be run in a Python 3.8 environment in which numpy, matplotlib, pandas, and scikit-learn have been installed. Do not assume or require the installation of any other libraries.\n",
    "\n",
    "Your should submit your notebook (.ipynb) file, your data file (probably a .csv file), and any other files that your code requires."
   ]
  },
  {
   "cell_type": "markdown",
   "metadata": {},
   "source": [
    "## Dataset Info\n",
    "This is a dataset that consists of various features of NASA confirmed planets. The pertinent ones are:\n",
    "* Orbital Period [days]\n",
    "* Planet Mass or M*sin(i) [Jupiter mass]\n",
    "\n",
    "#### Source\n",
    "Data was produced by the NASA Exoplanet Archive: http://exoplanetarchive.ipac.caltech.edu\n",
    "* Confirmed planets --> https://exoplanetarchive.ipac.caltech.edu/cgi-bin/TblView/nph-tblView?app=ExoTbls&config=planets\n",
    "* Downloaded the table as a CSV file --> My file name: planets_2020.09.03_20.35.38.csv\n",
    "* BUT, for ease of filename usage, I renamed to: planets090320.csv\n",
    "\n",
    "## Purpose\n",
    "The purpose in studying this dataset is to classify and compare planetary systems, specifically with regards to their quantitative properties. Plotting these properties can provide insight on the interactions and correlations between them. \n",
    "\n",
    "We do this by training an Support Vector Machine (SVM), Decision tree, and K-Nearest-Neighbors (KNN) model to classify between Jupiter-mass planets (class J) and Earth-mass planets (class E) based on mass and orbital period. Our ensemble method is majority voting. A (majority) voting ensemble is an ensemble ML model that combines predictions from multiple other models. For classification, the predictions for each label are summed and the label with majority vote is predicted.\n",
    "- SVM: a set of supervised learning methods used for classification (here), regression and outliers detection\n",
    "    - Feature Transformer(s): standard scaling - standardize features by removing the mean and scaling to unit variance\n",
    "- Decision tree: non-parametric supervised learning method used for classification and regression. The goal is to create a model that predicts the value of a target variable by learning simple decision rules inferred from the data features\n",
    "- KNN: stores all available cases and classifies new cases based on a similarity measure (e.g., distance functions)\n",
    "    - Feature Transformer(s): standard scaling - standardize features by removing the mean and scaling to unit variance\n",
    "\n",
    "We will compare the performance of the different models in their classification of these planets. This can be an important task because of the different properties, compositions, behaviors, etc. of different classes of planets. This has effects on their motion, aging, reactions (chemical, atmospheric, etc), interactions with space and bodies around them, etc. Our very understanding of the universe can be based on our studies of the different celestial bodies. \n",
    "\n",
    "## Helpful Background Info / Assumptions\n",
    "* (EXCLUDED) Super-Jupiters: planets of approx 2-13 M_J mass range\n",
    "* Mid-Jupiters: planets of approx 0.5-2 M_J mass range\n",
    "* (EXCLUDED) Sub-Jupiters: planets of approx 0.1-0.5 M_J mass range\n",
    "* Super-/Mid-/Sub-Earths and Earthy-midplanets: 0.01-30 M_E = approx (3.14657534e-5)-0.100690411 M_J mass range\n",
    "\n",
    "<!-- 0.0314657534 -->\n",
    "#### Here, we exclude Super-Jupiters and Sub-Jupiters, to even out the proportion of data for Jupiter vs Earth class planets (deviating a bit from their exact definitions due to lower-mass sub-jupiters being terrestrial). We consider Jupiter class planets to have 0.5 < M < 2 and Earth class planets to have M < 0.25\n",
    "\n",
    "Source: https://planetstar.fandom.com/wiki/Planetary_classification#:~:text=There%20are%20three%20broad%20types,in%20order%20of%20decreasing%20mass"
   ]
  },
  {
   "cell_type": "code",
   "execution_count": 1,
   "metadata": {},
   "outputs": [],
   "source": [
    "import matplotlib.pyplot as plt\n",
    "%matplotlib inline\n",
    "from sklearn import datasets\n",
    "from sklearn.model_selection import train_test_split\n",
    "import numpy as np\n",
    "import pandas as pd\n",
    "from sklearn.preprocessing import StandardScaler\n",
    "from sklearn.tree import DecisionTreeClassifier\n",
    "from sklearn.svm import SVC\n",
    "from sklearn.neighbors import KNeighborsClassifier \n",
    "from sklearn.pipeline import make_pipeline\n",
    "from sklearn.model_selection import cross_val_score"
   ]
  },
  {
   "cell_type": "markdown",
   "metadata": {},
   "source": [
    "## Process Dataset"
   ]
  },
  {
   "cell_type": "code",
   "execution_count": 2,
   "metadata": {},
   "outputs": [
    {
     "name": "stdout",
     "output_type": "stream",
     "text": [
      "Number of Data Points: 982\n",
      "Number of Training Points: 687\n",
      "Number of Testing Points: 295\n"
     ]
    }
   ],
   "source": [
    "#read in the data, skipping the first 73 rows of ancillary information\n",
    "data = pd.read_csv('planets090320.csv', skiprows=76)\n",
    "data = data[data['pl_bmassj']<2]\n",
    "data = data[data['pl_orbper']<1000]\n",
    "\n",
    "#true classfication labels of planets\n",
    "data.loc[(data.pl_bmassj > 0.5),'pl_class']='J'\n",
    "data.loc[(data.pl_bmassj < 0.25),'pl_class']='E'\n",
    "\n",
    "#drop rows with NaN values in these columns\n",
    "data = data.dropna(subset = ['pl_class','pl_bmassj','pl_orbper'])\n",
    "data = data.reset_index()\n",
    "\n",
    "#sort dataframe by the pl_class column for easy y (true-label) assignment later\n",
    "data = data.sort_values(by = 'pl_class') \n",
    "\n",
    "#find the indices of all planet entries that are Earth class or Jupiter class\n",
    "inds = [j for j in range(len(data)) if data['pl_class'][j]=='E' or data['pl_class'][j]=='J']\n",
    "\n",
    "# dataframes for plotting\n",
    "y = data.iloc[inds, 73].values # class 'dwarf' vs 'giant'\n",
    "y = np.where(y == 'E', -1, 1)\n",
    "X = data.iloc[inds,[7,23]].values # Orbital Period and Mass\n",
    "\n",
    "X_train, X_test, y_train, y_test =\\\n",
    "        train_test_split(X, y, test_size=0.3, random_state=1, stratify=y)\n",
    "print(\"Number of Data Points: \" + str(len(X)))\n",
    "print(\"Number of Training Points: \" + str(len(X_train)))\n",
    "print(\"Number of Testing Points: \" + str(len(X_test)))"
   ]
  },
  {
   "cell_type": "code",
   "execution_count": 3,
   "metadata": {},
   "outputs": [
    {
     "data": {
      "image/png": "[encoded data removed]",
      "text/plain": [
       "<Figure size 432x288 with 1 Axes>"
      ]
     },
     "metadata": {
      "needs_background": "light"
     },
     "output_type": "display_data"
    }
   ],
   "source": [
    "# plot data\n",
    "\n",
    "#print(y[539:])\n",
    "plt.scatter(x=X[:540, 0], y=X[:540, 1],\n",
    "            color='red', marker='o', label='Giants')\n",
    "plt.scatter(x=X[540:, 0], y=X[540:, 1],\n",
    "            color='blue', marker='x', label='Dwarfs')\n",
    "\n",
    "plt.xlabel('Orbital Period (days)')\n",
    "plt.ylabel('Mass (M_jup)')\n",
    "plt.legend(loc='upper right')\n",
    "\n",
    "plt.show()"
   ]
  },
  {
   "cell_type": "markdown",
   "metadata": {},
   "source": [
    "## Pipelines (for classifiers) and k-fold cross-validation"
   ]
  },
  {
   "cell_type": "code",
   "execution_count": 4,
   "metadata": {},
   "outputs": [
    {
     "name": "stdout",
     "output_type": "stream",
     "text": [
      "10-fold cross validation:\n",
      "\n",
      "Accuracy: 1.0 Stdev: 0.004 [SVC]\n",
      "Accuracy: 1.0 Stdev: 0.0 [Decision tree]\n",
      "Accuracy: 0.99 Stdev: 0.011 [KNN]\n"
     ]
    }
   ],
   "source": [
    "pipe1 = make_pipeline(StandardScaler(), SVC(kernel='rbf', probability=True))\n",
    "\n",
    "pipe2 = make_pipeline(DecisionTreeClassifier(max_depth=4,\n",
    "                                             criterion='entropy',\n",
    "                                             random_state=0))\n",
    "\n",
    "pipe3 = make_pipeline(StandardScaler(), KNeighborsClassifier(n_neighbors=25,\n",
    "                                                             p=3,\n",
    "                                                             metric='minkowski'))\n",
    "\n",
    "clf_labels = ['SVC', 'Decision tree', 'KNN']\n",
    "\n",
    "print('10-fold cross validation:\\n')\n",
    "for clf, label in zip([pipe1, pipe2, pipe3], clf_labels):\n",
    "    scores = cross_val_score(estimator=clf,\n",
    "                             X=X_train,\n",
    "                             y=y_train,\n",
    "                             cv=10,\n",
    "                             scoring='accuracy')\n",
    "    print(\"Accuracy: \" + str(round(scores.mean(), 2)) + \n",
    "          \" Stdev: \" + str(round(scores.std(), 3)) +\n",
    "          \" [\" + label + \"]\")"
   ]
  },
  {
   "cell_type": "markdown",
   "metadata": {},
   "source": [
    "## Ensemble"
   ]
  },
  {
   "cell_type": "code",
   "execution_count": 5,
   "metadata": {},
   "outputs": [
    {
     "name": "stdout",
     "output_type": "stream",
     "text": [
      "Accuracy: 1.0 Stdev: 0.004 [SVC]\n",
      "Accuracy: 1.0 Stdev: 0.0 [Decision tree]\n",
      "Accuracy: 0.99 Stdev: 0.011 [KNN]\n",
      "Accuracy: 1.0 Stdev: 0.004 [Majority voting]\n"
     ]
    }
   ],
   "source": [
    "from sklearn.ensemble import VotingClassifier\n",
    "\n",
    "mv_clf = VotingClassifier(estimators=[('p', pipe1), ('dt', pipe2), ('kn', pipe3)])\n",
    "\n",
    "clf_labels += ['Majority voting']\n",
    "all_clf = [pipe1, pipe2, pipe3, mv_clf]\n",
    "\n",
    "for clf, label in zip(all_clf, clf_labels):\n",
    "    scores = cross_val_score(estimator=clf,\n",
    "                             X=X_train,\n",
    "                             y=y_train,\n",
    "                             cv=10,\n",
    "                             scoring='accuracy')\n",
    "    print(\"Accuracy: \" + str(round(scores.mean(), 2)) + \n",
    "          \" Stdev: \" + str(round(scores.std(), 3)) +\n",
    "          \" [\" + label + \"]\")"
   ]
  },
  {
   "cell_type": "markdown",
   "metadata": {},
   "source": [
    "## Performance on Testing Sets"
   ]
  },
  {
   "cell_type": "code",
   "execution_count": 6,
   "metadata": {},
   "outputs": [
    {
     "name": "stdout",
     "output_type": "stream",
     "text": [
      "Misclassified test set examples: 0\n",
      "Out of a total of: 295\n",
      "Accuracy: 1.0\n"
     ]
    }
   ],
   "source": [
    "pipe1.fit(X_train, y_train)\n",
    "\n",
    "y_pred = pipe1.predict(X_test)\n",
    "print('Misclassified test set examples:', (y_test != y_pred).sum())\n",
    "print('Out of a total of:', y_test.shape[0])\n",
    "print('Accuracy:', pipe1.score(X_test, y_test))"
   ]
  },
  {
   "cell_type": "code",
   "execution_count": 7,
   "metadata": {},
   "outputs": [
    {
     "name": "stdout",
     "output_type": "stream",
     "text": [
      "Misclassified test set examples: 0\n",
      "Out of a total of: 295\n",
      "Accuracy: 1.0\n"
     ]
    }
   ],
   "source": [
    "pipe2.fit(X_train, y_train)\n",
    "\n",
    "y_pred = pipe2.predict(X_test)\n",
    "print('Misclassified test set examples:', (y_test != y_pred).sum())\n",
    "print('Out of a total of:', y_test.shape[0])\n",
    "print('Accuracy:', pipe2.score(X_test, y_test))"
   ]
  },
  {
   "cell_type": "code",
   "execution_count": 8,
   "metadata": {},
   "outputs": [
    {
     "name": "stdout",
     "output_type": "stream",
     "text": [
      "Misclassified test set examples: 2\n",
      "Out of a total of: 295\n",
      "Accuracy: 0.9932203389830508\n"
     ]
    }
   ],
   "source": [
    "pipe3.fit(X_train, y_train)\n",
    "\n",
    "y_pred = pipe3.predict(X_test)\n",
    "print('Misclassified test set examples:', (y_test != y_pred).sum())\n",
    "print('Out of a total of:', y_test.shape[0])\n",
    "print('Accuracy:', pipe3.score(X_test, y_test))"
   ]
  },
  {
   "cell_type": "code",
   "execution_count": 9,
   "metadata": {},
   "outputs": [
    {
     "name": "stdout",
     "output_type": "stream",
     "text": [
      "Misclassified test set examples: 0\n",
      "Out of a total of: 295\n",
      "Accuracy: 1.0\n"
     ]
    }
   ],
   "source": [
    "mv_clf.fit(X_train, y_train)\n",
    "\n",
    "y_pred = mv_clf.predict(X_test)\n",
    "print('Misclassified test set examples:', (y_test != y_pred).sum())\n",
    "print('Out of a total of:', y_test.shape[0])\n",
    "print('Accuracy:', mv_clf.score(X_test, y_test))"
   ]
  },
  {
   "cell_type": "markdown",
   "metadata": {},
   "source": [
    "## Results Summary\n",
    "* **Cross-Validation**\n",
    "\n",
    "The cross-validation results indicate very high accuracy from all the classifiers and the majority voting ensemble. SVC, Decision Tree, and the Ensemble all obtained 100% accuracy and KNN achieved 99% accuracy. All standard deviations were < 0.02. \n",
    "\n",
    "* **Performance on testing data**\n",
    "\n",
    "With regards to accuracy, the results of testing on the testing data are consistent with those of cross-validation. All exhibited >98% accuracy, with only KNN misclassifying 2 test set examples. All other pipelines classified all test set examples correctly. "
   ]
  }
 ],
 "metadata": {
  "kernelspec": {
   "display_name": "Python 3",
   "language": "python",
   "name": "python3"
  },
  "language_info": {
   "codemirror_mode": {
    "name": "ipython",
    "version": 3
   },
   "file_extension": ".py",
   "mimetype": "text/x-python",
   "name": "python",
   "nbconvert_exporter": "python",
   "pygments_lexer": "ipython3",
   "version": "3.7.6"
  }
 },
 "nbformat": 4,
 "nbformat_minor": 2
}
